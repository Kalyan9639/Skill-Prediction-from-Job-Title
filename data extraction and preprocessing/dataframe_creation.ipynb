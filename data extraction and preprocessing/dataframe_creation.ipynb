{
 "cells": [
  {
   "cell_type": "code",
   "execution_count": 1,
   "id": "aea252f6",
   "metadata": {},
   "outputs": [],
   "source": [
    "import pandas as pd\n",
    "import json\n",
    "\n",
    "# Function to load a JSON file\n",
    "def load_json_file(file_path):\n",
    "    try:\n",
    "        with open(file_path, 'r', encoding='utf-8') as f:\n",
    "            data = json.load(f)\n",
    "        return data\n",
    "    except Exception as e:\n",
    "        print(f\"Error loading {file_path}: {e}\")\n",
    "        return None\n",
    "\n",
    "# Helper function to extract skill names from a list of dictionaries\n",
    "def extract_skills(skills_list):\n",
    "    if isinstance(skills_list, list):\n",
    "        return [skill['name'] for skill in skills_list if isinstance(skill, dict) and 'name' in skill]\n",
    "    return []\n",
    "\n",
    "# Helper function to extract skills from a list of strings\n",
    "def extract_skills_from_list(skills_list):\n",
    "    if isinstance(skills_list, list):\n",
    "        return [str(skill) for skill in skills_list]\n",
    "    return []\n"
   ]
  },
  {
   "cell_type": "code",
   "execution_count": 2,
   "id": "db0ef3f4",
   "metadata": {},
   "outputs": [],
   "source": [
    "# --- Process jobs.json ---\n",
    "jobs_data = load_json_file('jobs.json')\n",
    "if jobs_data:\n",
    "    df_jobs = pd.DataFrame(jobs_data)\n",
    "    df_jobs['skills'] = df_jobs['skills'].apply(extract_skills)\n",
    "    df_jobs['skills'] = df_jobs['skills'].apply(lambda x: ', '.join(x))\n",
    "    df_jobs_cleaned = df_jobs[['title', 'description_text', 'skills']].rename(\n",
    "        columns={'title': 'Job Title', 'description_text': 'Job Description', 'skills': 'Skills'})\n",
    "    df_jobs_cleaned['Source'] = 'jobs.json'\n",
    "else:\n",
    "    df_jobs_cleaned = pd.DataFrame()\n",
    "\n",
    "# --- Process 2025-08-20 7P.M.json ---\n",
    "upwork_jobs_data = load_json_file('2025-08-20 7P.M..json')\n",
    "if upwork_jobs_data:\n",
    "    df_upwork = pd.DataFrame(upwork_jobs_data)\n",
    "    df_upwork['skills'] = df_upwork['skills'].apply(extract_skills)\n",
    "    df_upwork['skills'] = df_upwork['skills'].apply(lambda x: ', '.join(x))\n",
    "    df_upwork_cleaned = df_upwork[['title', 'description_text', 'skills']].rename(\n",
    "        columns={'title': 'Job Title', 'description_text': 'Job Description', 'skills': 'Skills'})\n",
    "    df_upwork_cleaned['Source'] = '2025-08-20 7P.M..json'\n",
    "else:\n",
    "    df_upwork_cleaned = pd.DataFrame()\n",
    "\n",
    "# --- Process linkedin_jobs.json ---\n",
    "linkedin_jobs_data = load_json_file('linkedin_jobs.json')\n",
    "if linkedin_jobs_data:\n",
    "    df_linkedin = pd.DataFrame(linkedin_jobs_data)\n",
    "    # Use 'linkedin_org_description' as a proxy for 'Job Description'\n",
    "    # Use 'linkedin_org_specialties' as a proxy for 'Skills'\n",
    "    df_linkedin_cleaned = df_linkedin[['title', 'linkedin_org_description', 'linkedin_org_specialties']].rename(\n",
    "        columns={'title': 'Job Title', 'linkedin_org_description': 'Job Description', 'linkedin_org_specialties': 'Skills'})\n",
    "    df_linkedin_cleaned['Skills'] = df_linkedin_cleaned['Skills'].fillna('').apply(extract_skills_from_list)\n",
    "    df_linkedin_cleaned['Skills'] = df_linkedin_cleaned['Skills'].apply(lambda x: ', '.join(x))\n",
    "    df_linkedin_cleaned['Source'] = 'linkedin_jobs.json'\n",
    "else:\n",
    "    df_linkedin_cleaned = pd.DataFrame()\n",
    "\n"
   ]
  },
  {
   "cell_type": "code",
   "execution_count": 3,
   "id": "ea1b8572",
   "metadata": {},
   "outputs": [
    {
     "data": {
      "text/html": [
       "<div>\n",
       "<style scoped>\n",
       "    .dataframe tbody tr th:only-of-type {\n",
       "        vertical-align: middle;\n",
       "    }\n",
       "\n",
       "    .dataframe tbody tr th {\n",
       "        vertical-align: top;\n",
       "    }\n",
       "\n",
       "    .dataframe thead th {\n",
       "        text-align: right;\n",
       "    }\n",
       "</style>\n",
       "<table border=\"1\" class=\"dataframe\">\n",
       "  <thead>\n",
       "    <tr style=\"text-align: right;\">\n",
       "      <th></th>\n",
       "      <th>Job Title</th>\n",
       "      <th>Job Description</th>\n",
       "      <th>Skills</th>\n",
       "      <th>Source</th>\n",
       "    </tr>\n",
       "  </thead>\n",
       "  <tbody>\n",
       "    <tr>\n",
       "      <th>0</th>\n",
       "      <td>Need expert Virtual Assistant for account help...</td>\n",
       "      <td>We are looking for a highly experienced and de...</td>\n",
       "      <td>eBay, Amazon</td>\n",
       "      <td>jobs.json</td>\n",
       "    </tr>\n",
       "    <tr>\n",
       "      <th>1</th>\n",
       "      <td>Deutsche Darsteller:innen für Business-Testimo...</td>\n",
       "      <td>Beschreibung:\\nWir sind ein deutsches Start-up...</td>\n",
       "      <td>Female, Male, Senior Adult, German, English, M...</td>\n",
       "      <td>jobs.json</td>\n",
       "    </tr>\n",
       "    <tr>\n",
       "      <th>2</th>\n",
       "      <td>Senior Dev - NFT Marketplace</td>\n",
       "      <td>We’re looking for a talented full stack blockc...</td>\n",
       "      <td>Blockchain Architecture, JavaScript</td>\n",
       "      <td>jobs.json</td>\n",
       "    </tr>\n",
       "    <tr>\n",
       "      <th>3</th>\n",
       "      <td>Prospect List/Sourcing Specialist for High-Vol...</td>\n",
       "      <td>We are looking for an experienced Prospect Lis...</td>\n",
       "      <td>Prospect List, Lead Generation, Market Researc...</td>\n",
       "      <td>jobs.json</td>\n",
       "    </tr>\n",
       "    <tr>\n",
       "      <th>4</th>\n",
       "      <td>Long-Term Web Designer (WordPress) with Strong...</td>\n",
       "      <td>We’re looking to build a long-term relationshi...</td>\n",
       "      <td>Website Redesign, Custom Web Design, Theme Cus...</td>\n",
       "      <td>jobs.json</td>\n",
       "    </tr>\n",
       "  </tbody>\n",
       "</table>\n",
       "</div>"
      ],
      "text/plain": [
       "                                           Job Title  \\\n",
       "0  Need expert Virtual Assistant for account help...   \n",
       "1  Deutsche Darsteller:innen für Business-Testimo...   \n",
       "2                       Senior Dev - NFT Marketplace   \n",
       "3  Prospect List/Sourcing Specialist for High-Vol...   \n",
       "4  Long-Term Web Designer (WordPress) with Strong...   \n",
       "\n",
       "                                     Job Description  \\\n",
       "0  We are looking for a highly experienced and de...   \n",
       "1  Beschreibung:\\nWir sind ein deutsches Start-up...   \n",
       "2  We’re looking for a talented full stack blockc...   \n",
       "3  We are looking for an experienced Prospect Lis...   \n",
       "4  We’re looking to build a long-term relationshi...   \n",
       "\n",
       "                                              Skills     Source  \n",
       "0                                       eBay, Amazon  jobs.json  \n",
       "1  Female, Male, Senior Adult, German, English, M...  jobs.json  \n",
       "2                Blockchain Architecture, JavaScript  jobs.json  \n",
       "3  Prospect List, Lead Generation, Market Researc...  jobs.json  \n",
       "4  Website Redesign, Custom Web Design, Theme Cus...  jobs.json  "
      ]
     },
     "execution_count": 3,
     "metadata": {},
     "output_type": "execute_result"
    }
   ],
   "source": [
    "# Concatenate all dataframes\n",
    "final_df = pd.concat([df_jobs_cleaned, df_upwork_cleaned, df_linkedin_cleaned], ignore_index=True)\n",
    "\n",
    "final_df.head()"
   ]
  },
  {
   "cell_type": "code",
   "execution_count": 5,
   "id": "74e22856",
   "metadata": {},
   "outputs": [
    {
     "data": {
      "text/plain": [
       "Job Title          0\n",
       "Job Description    8\n",
       "Skills             0\n",
       "Source             0\n",
       "dtype: int64"
      ]
     },
     "execution_count": 5,
     "metadata": {},
     "output_type": "execute_result"
    }
   ],
   "source": [
    "final_df.isna().sum()"
   ]
  },
  {
   "cell_type": "code",
   "execution_count": 6,
   "id": "5b5212ea",
   "metadata": {},
   "outputs": [
    {
     "name": "stdout",
     "output_type": "stream",
     "text": [
      "<class 'pandas.core.frame.DataFrame'>\n",
      "RangeIndex: 300 entries, 0 to 299\n",
      "Data columns (total 4 columns):\n",
      " #   Column           Non-Null Count  Dtype \n",
      "---  ------           --------------  ----- \n",
      " 0   Job Title        300 non-null    object\n",
      " 1   Job Description  292 non-null    object\n",
      " 2   Skills           300 non-null    object\n",
      " 3   Source           300 non-null    object\n",
      "dtypes: object(4)\n",
      "memory usage: 9.5+ KB\n"
     ]
    }
   ],
   "source": [
    "final_df.info()"
   ]
  },
  {
   "cell_type": "code",
   "execution_count": 7,
   "id": "ba8fed10",
   "metadata": {},
   "outputs": [
    {
     "name": "stdout",
     "output_type": "stream",
     "text": [
      "\n",
      "Final DataFrame saved to extracted_job_data.csv\n"
     ]
    }
   ],
   "source": [
    "# Save the final DataFrame to a CSV file\n",
    "output_file = 'extracted_job_data.csv'\n",
    "final_df.to_csv(output_file, index=False)\n",
    "print(f\"\\nFinal DataFrame saved to {output_file}\")"
   ]
  },
  {
   "cell_type": "code",
   "execution_count": null,
   "id": "9aa0ab5b",
   "metadata": {},
   "outputs": [],
   "source": []
  }
 ],
 "metadata": {
  "kernelspec": {
   "display_name": "env",
   "language": "python",
   "name": "python3"
  },
  "language_info": {
   "codemirror_mode": {
    "name": "ipython",
    "version": 3
   },
   "file_extension": ".py",
   "mimetype": "text/x-python",
   "name": "python",
   "nbconvert_exporter": "python",
   "pygments_lexer": "ipython3",
   "version": "3.12.10"
  }
 },
 "nbformat": 4,
 "nbformat_minor": 5
}
